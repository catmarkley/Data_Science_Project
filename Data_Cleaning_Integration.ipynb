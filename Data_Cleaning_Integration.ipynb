{
 "cells": [
  {
   "cell_type": "code",
   "execution_count": 1,
   "metadata": {},
   "outputs": [],
   "source": [
    "import pandas as pd\n",
    "import numpy as np"
   ]
  },
  {
   "cell_type": "markdown",
   "metadata": {},
   "source": [
    "CBOE Data ------------------------------------------------------------------------------------------------------------"
   ]
  },
  {
   "cell_type": "code",
   "execution_count": 90,
   "metadata": {},
   "outputs": [],
   "source": [
    "# Load in data\n",
    "vix = pd.read_csv(\"CBOE/VIX.csv\")\n",
    "vox = pd.read_csv(\"CBOE/VOX.csv\")\n",
    "vxd = pd.read_csv(\"CBOE/VXD.csv\")\n",
    "vxn = pd.read_csv(\"CBOE/VXN.csv\")"
   ]
  },
  {
   "cell_type": "code",
   "execution_count": 91,
   "metadata": {},
   "outputs": [],
   "source": [
    "# Rename columns\n",
    "vox.columns = ['Date', 'VOX Open', 'VOX High', 'VOX Low', 'VOX Close']\n",
    "vxd.columns = ['Date', 'VXD Open', 'VXD High', 'VXD Low', 'VXD Close']\n",
    "vxn.columns = ['Date', 'VXN Open', 'VXN High', 'VXN Low', 'VXN Close']"
   ]
  },
  {
   "cell_type": "code",
   "execution_count": 92,
   "metadata": {},
   "outputs": [],
   "source": [
    "# Drop N/A dates\n",
    "vix = vix[:7236]"
   ]
  },
  {
   "cell_type": "code",
   "execution_count": 95,
   "metadata": {},
   "outputs": [],
   "source": [
    "# Fix dates (only VIX needs to be fixed)\n",
    "dates = []\n",
    "for date in vix['Date']:\n",
    "    parts = date.split('/')\n",
    "    month = parts[0]\n",
    "    if(month[0] == '0'):\n",
    "        month = month[1]\n",
    "    day = parts[1]\n",
    "    if(day[0] == '0'):\n",
    "        day = day[1]\n",
    "    year = parts[2]\n",
    "    dates.append(month+'/'+day+'/'+year)\n",
    "\n",
    "vix['Date'] = dates"
   ]
  },
  {
   "cell_type": "code",
   "execution_count": 97,
   "metadata": {},
   "outputs": [],
   "source": [
    "# Join them\n",
    "temp = pd.merge(vix, vox, on='Date')\n",
    "temp2 = pd.merge(temp, vxd, on='Date')\n",
    "result = pd.merge(temp2, vxn, on='Date')\n",
    "CBOE = result.dropna()"
   ]
  },
  {
   "cell_type": "markdown",
   "metadata": {},
   "source": [
    "CRSP Data ------------------------------------------------------------------------------------------------------------"
   ]
  },
  {
   "cell_type": "code",
   "execution_count": 121,
   "metadata": {},
   "outputs": [],
   "source": [
    "# Load in data\n",
    "meta = pd.read_csv(\"CRSP/CRSP_CAP_metadata.csv\")\n",
    "cap = pd.read_csv(\"CRSP/CRSP_CAP.csv\")"
   ]
  },
  {
   "cell_type": "code",
   "execution_count": 122,
   "metadata": {},
   "outputs": [],
   "source": [
    "# Remove unnecessary columns\n",
    "cap = cap[cap.columns[0:20]]\n",
    "\n",
    "cols = []\n",
    "cols.append('Calendar Date')\n",
    "cols.extend(cap.columns[1:])\n",
    "cap.columns = cols"
   ]
  },
  {
   "cell_type": "code",
   "execution_count": 123,
   "metadata": {},
   "outputs": [],
   "source": [
    "# Fix date format\n",
    "dates = []\n",
    "for date in cap['Calendar Date']:\n",
    "    year = str(date)[2:4]\n",
    "    month = str(date)[4:6]\n",
    "    if(month[0] == '0'):\n",
    "        month = month[1]\n",
    "    day = str(date)[6:8]\n",
    "    if(day[0] == '0'):\n",
    "        day = day[1]\n",
    "    dates.append(month+'/'+day+'/'+year)\n",
    "\n",
    "cap['Calendar Date'] = dates"
   ]
  },
  {
   "cell_type": "code",
   "execution_count": 130,
   "metadata": {},
   "outputs": [],
   "source": [
    "# Drop N/A values\n",
    "cap = cap.dropna()"
   ]
  },
  {
   "cell_type": "code",
   "execution_count": null,
   "metadata": {},
   "outputs": [],
   "source": []
  },
  {
   "cell_type": "code",
   "execution_count": null,
   "metadata": {},
   "outputs": [],
   "source": []
  },
  {
   "cell_type": "code",
   "execution_count": null,
   "metadata": {},
   "outputs": [],
   "source": []
  },
  {
   "cell_type": "code",
   "execution_count": null,
   "metadata": {},
   "outputs": [],
   "source": []
  },
  {
   "cell_type": "code",
   "execution_count": null,
   "metadata": {},
   "outputs": [],
   "source": []
  }
 ],
 "metadata": {
  "kernelspec": {
   "display_name": "Python 3",
   "language": "python",
   "name": "python3"
  },
  "language_info": {
   "codemirror_mode": {
    "name": "ipython",
    "version": 3
   },
   "file_extension": ".py",
   "mimetype": "text/x-python",
   "name": "python",
   "nbconvert_exporter": "python",
   "pygments_lexer": "ipython3",
   "version": "3.6.5"
  }
 },
 "nbformat": 4,
 "nbformat_minor": 2
}
