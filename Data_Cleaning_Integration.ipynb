{
 "cells": [
  {
   "cell_type": "code",
   "execution_count": 1,
   "metadata": {},
   "outputs": [],
   "source": [
    "import pandas as pd\n",
    "import numpy as np"
   ]
  },
  {
   "cell_type": "markdown",
   "metadata": {},
   "source": [
    "CBOE Data ------------------------------------------------------------------------------------------------------------"
   ]
  },
  {
   "cell_type": "code",
   "execution_count": 2,
   "metadata": {},
   "outputs": [],
   "source": [
    "# Load in data\n",
    "vix = pd.read_csv(\"CBOE/VIX.csv\")\n",
    "vox = pd.read_csv(\"CBOE/VOX.csv\")\n",
    "vxd = pd.read_csv(\"CBOE/VXD.csv\")\n",
    "vxn = pd.read_csv(\"CBOE/VXN.csv\")"
   ]
  },
  {
   "cell_type": "code",
   "execution_count": 3,
   "metadata": {},
   "outputs": [],
   "source": [
    "# Rename columns\n",
    "vox.columns = ['Date', 'VOX Open', 'VOX High', 'VOX Low', 'VOX Close']\n",
    "vxd.columns = ['Date', 'VXD Open', 'VXD High', 'VXD Low', 'VXD Close']\n",
    "vxn.columns = ['Date', 'VXN Open', 'VXN High', 'VXN Low', 'VXN Close']\n",
    "\n",
    "# Can comment out if we need other columns\n",
    "# Only take the close columns\n",
    "vix = vix[['Date', 'VIX Close']]\n",
    "vox = vox[['Date', 'VOX Close']]\n",
    "vxd = vxd[['Date', 'VXD Close']]\n",
    "vxn = vxn[['Date', 'VXN Close']]"
   ]
  },
  {
   "cell_type": "code",
   "execution_count": 4,
   "metadata": {},
   "outputs": [],
   "source": [
    "# Drop N/A dates\n",
    "vix = vix[:7236] # These dates are in the future so we don't need them"
   ]
  },
  {
   "cell_type": "code",
   "execution_count": 5,
   "metadata": {},
   "outputs": [],
   "source": [
    "# Fix dates (only VIX needs to be fixed)\n",
    "dates = []\n",
    "for date in vix['Date']:\n",
    "    parts = date.split('/')\n",
    "    month = parts[0]\n",
    "    if(month[0] == '0'):\n",
    "        month = month[1]\n",
    "    day = parts[1]\n",
    "    if(day[0] == '0'):\n",
    "        day = day[1]\n",
    "    year = parts[2]\n",
    "    dates.append(month+'/'+day+'/'+year)\n",
    "\n",
    "vix['Date'] = dates"
   ]
  },
  {
   "cell_type": "code",
   "execution_count": 6,
   "metadata": {},
   "outputs": [],
   "source": [
    "# Join them\n",
    "temp = pd.merge(vix, vox, on='Date', how='outer')\n",
    "temp2 = pd.merge(temp, vxd, on='Date', how='outer')\n",
    "CBOE = pd.merge(temp2, vxn, on='Date', how='outer')"
   ]
  },
  {
   "cell_type": "markdown",
   "metadata": {},
   "source": [
    "CRSP Data ------------------------------------------------------------------------------------------------------------"
   ]
  },
  {
   "cell_type": "code",
   "execution_count": 7,
   "metadata": {},
   "outputs": [],
   "source": [
    "# Load in data\n",
    "meta = pd.read_csv(\"CRSP/CRSP_CAP_metadata.csv\")\n",
    "cap = pd.read_csv(\"CRSP/CRSP_CAP.csv\")"
   ]
  },
  {
   "cell_type": "code",
   "execution_count": 8,
   "metadata": {},
   "outputs": [],
   "source": [
    "# Remove unnecessary columns\n",
    "cap = cap[cap.columns[0:20]]\n",
    "\n",
    "cols = []\n",
    "cols.append('Date')\n",
    "cols.extend(cap.columns[1:])\n",
    "cap.columns = cols"
   ]
  },
  {
   "cell_type": "code",
   "execution_count": 9,
   "metadata": {},
   "outputs": [],
   "source": [
    "# Fix date format\n",
    "dates = []\n",
    "for date in cap['Date']:\n",
    "    year = str(date)[2:4]\n",
    "    month = str(date)[4:6]\n",
    "    if(month[0] == '0'):\n",
    "        month = month[1]\n",
    "    day = str(date)[6:8]\n",
    "    if(day[0] == '0'):\n",
    "        day = day[1]\n",
    "    dates.append(month+'/'+day+'/'+year)\n",
    "\n",
    "cap['Date'] = dates"
   ]
  },
  {
   "cell_type": "code",
   "execution_count": 10,
   "metadata": {},
   "outputs": [],
   "source": [
    "# Drop N/A values and Fix column names\n",
    "#cap = cap.dropna()\n",
    "temp = [cap.columns[0]]\n",
    "temp.extend(meta.columns[1:])\n",
    "cap.columns = temp"
   ]
  },
  {
   "cell_type": "markdown",
   "metadata": {},
   "source": [
    "SP500 Data -----------------------------------------------------------------------------------------------------------"
   ]
  },
  {
   "cell_type": "code",
   "execution_count": 11,
   "metadata": {},
   "outputs": [],
   "source": [
    "sp500 = pd.read_csv(\"SP500/sp500.csv\")\n",
    "# Rename columns\n",
    "sp500.columns = ['Date', 'sp500', 'log_sp500']"
   ]
  },
  {
   "cell_type": "code",
   "execution_count": 23,
   "metadata": {},
   "outputs": [],
   "source": [
    "temp1 = pd.merge(CBOE, cap, on='Date', how='outer')\n",
    "temp2 = pd.merge(temp1, sp500, on='Date', how=\"outer\")"
   ]
  },
  {
   "cell_type": "code",
   "execution_count": 24,
   "metadata": {},
   "outputs": [
    {
     "data": {
      "text/plain": [
       "(4376, 26)"
      ]
     },
     "execution_count": 24,
     "metadata": {},
     "output_type": "execute_result"
    }
   ],
   "source": [
    "temp2.dropna().shape"
   ]
  },
  {
   "cell_type": "markdown",
   "metadata": {},
   "source": [
    "FRED Data ------------------------------------------------------------------------------------------------------------"
   ]
  },
  {
   "cell_type": "code",
   "execution_count": 34,
   "metadata": {},
   "outputs": [],
   "source": [
    "# import FRED data\n",
    "FRED = pd.read_csv(\"FRED_Merged.csv\")"
   ]
  },
  {
   "cell_type": "code",
   "execution_count": 35,
   "metadata": {},
   "outputs": [],
   "source": [
    "temp = FRED[FRED.columns[1:]]\n",
    "result = pd.merge(temp2, temp, on='Date', how='outer')"
   ]
  },
  {
   "cell_type": "markdown",
   "metadata": {},
   "source": [
    "French Data ----------------------------------------------------------------------------------------------------------"
   ]
  },
  {
   "cell_type": "code",
   "execution_count": 48,
   "metadata": {},
   "outputs": [],
   "source": [
    "# import French data\n",
    "French = pd.read_csv(\"French_data.csv\")"
   ]
  },
  {
   "cell_type": "code",
   "execution_count": 49,
   "metadata": {},
   "outputs": [],
   "source": [
    "French = French.drop('Unnamed: 0', axis=1)"
   ]
  },
  {
   "cell_type": "code",
   "execution_count": 51,
   "metadata": {},
   "outputs": [],
   "source": [
    "Final = pd.merge(result, French, on='Date', how='outer')"
   ]
  },
  {
   "cell_type": "code",
   "execution_count": 54,
   "metadata": {},
   "outputs": [],
   "source": [
    "Final.to_csv(\"Total_Data.csv\")"
   ]
  },
  {
   "cell_type": "code",
   "execution_count": null,
   "metadata": {},
   "outputs": [],
   "source": []
  }
 ],
 "metadata": {
  "kernelspec": {
   "display_name": "Python 3",
   "language": "python",
   "name": "python3"
  },
  "language_info": {
   "codemirror_mode": {
    "name": "ipython",
    "version": 3
   },
   "file_extension": ".py",
   "mimetype": "text/x-python",
   "name": "python",
   "nbconvert_exporter": "python",
   "pygments_lexer": "ipython3",
   "version": "3.6.5"
  }
 },
 "nbformat": 4,
 "nbformat_minor": 2
}
