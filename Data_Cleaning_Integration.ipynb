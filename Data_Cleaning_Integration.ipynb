{
 "cells": [
  {
   "cell_type": "code",
   "execution_count": 50,
   "metadata": {},
   "outputs": [],
   "source": [
    "import pandas as pd\n",
    "import numpy as np"
   ]
  },
  {
   "cell_type": "markdown",
   "metadata": {},
   "source": [
    "CBOE Data ------------------------------------------------------------------------------------------------------------"
   ]
  },
  {
   "cell_type": "code",
   "execution_count": 2,
   "metadata": {},
   "outputs": [],
   "source": [
    "# Load in data\n",
    "vix = pd.read_csv(\"CBOE/VIX.csv\")\n",
    "vox = pd.read_csv(\"CBOE/VOX.csv\")\n",
    "vxd = pd.read_csv(\"CBOE/VXD.csv\")\n",
    "vxn = pd.read_csv(\"CBOE/VXN.csv\")\n",
    "frames = [vix, vox, vxd, vxn]"
   ]
  },
  {
   "cell_type": "code",
   "execution_count": 3,
   "metadata": {},
   "outputs": [],
   "source": [
    "# Rename columns\n",
    "vox.columns = ['Date', 'VOX Open', 'VOX High', 'VOX Low', 'VOX Close']\n",
    "vxd.columns = ['Date', 'VXD Open', 'VXD High', 'VXD Low', 'VXD Close']\n",
    "vxn.columns = ['Date', 'VXN Open', 'VXN High', 'VXN Low', 'VXN Close']"
   ]
  },
  {
   "cell_type": "code",
   "execution_count": 4,
   "metadata": {},
   "outputs": [],
   "source": [
    "# Drop N/A dates\n",
    "vix = vix[:7236]"
   ]
  },
  {
   "cell_type": "code",
   "execution_count": 5,
   "metadata": {},
   "outputs": [
    {
     "name": "stderr",
     "output_type": "stream",
     "text": [
      "/afs/crc.nd.edu/user/p/pbui/pub/anaconda3/lib/python3.6/site-packages/ipykernel_launcher.py:9: SettingWithCopyWarning: \n",
      "A value is trying to be set on a copy of a slice from a DataFrame.\n",
      "Try using .loc[row_indexer,col_indexer] = value instead\n",
      "\n",
      "See the caveats in the documentation: http://pandas.pydata.org/pandas-docs/stable/indexing.html#indexing-view-versus-copy\n",
      "  if __name__ == '__main__':\n"
     ]
    }
   ],
   "source": [
    "# Fix dates (only VIX needs to be fixed)\n",
    "dates = []\n",
    "for date in vix['Date']:\n",
    "    if(str(date)[0] == '0'):\n",
    "        dates.append(date[1:])\n",
    "    else:\n",
    "        dates.append(date)\n",
    "\n",
    "vix['Date'] = dates"
   ]
  },
  {
   "cell_type": "code",
   "execution_count": 47,
   "metadata": {},
   "outputs": [],
   "source": [
    "# Join them\n",
    "temp = pd.merge(vix, vox, on='Date')\n",
    "temp2 = pd.merge(temp, vxd, on='Date')\n",
    "result = pd.merge(temp2, vxn, on='Date')\n",
    "CBOE = result.dropna()"
   ]
  },
  {
   "cell_type": "code",
   "execution_count": 48,
   "metadata": {},
   "outputs": [
    {
     "data": {
      "text/plain": [
       "(3755, 17)"
      ]
     },
     "execution_count": 48,
     "metadata": {},
     "output_type": "execute_result"
    }
   ],
   "source": [
    "CBOE.shape"
   ]
  },
  {
   "cell_type": "code",
   "execution_count": 49,
   "metadata": {},
   "outputs": [
    {
     "data": {
      "text/html": [
       "<div>\n",
       "<style scoped>\n",
       "    .dataframe tbody tr th:only-of-type {\n",
       "        vertical-align: middle;\n",
       "    }\n",
       "\n",
       "    .dataframe tbody tr th {\n",
       "        vertical-align: top;\n",
       "    }\n",
       "\n",
       "    .dataframe thead th {\n",
       "        text-align: right;\n",
       "    }\n",
       "</style>\n",
       "<table border=\"1\" class=\"dataframe\">\n",
       "  <thead>\n",
       "    <tr style=\"text-align: right;\">\n",
       "      <th></th>\n",
       "      <th>Date</th>\n",
       "      <th>VIX Open</th>\n",
       "      <th>VIX High</th>\n",
       "      <th>VIX Low</th>\n",
       "      <th>VIX Close</th>\n",
       "      <th>VOX Open</th>\n",
       "      <th>VOX High</th>\n",
       "      <th>VOX Low</th>\n",
       "      <th>VOX Close</th>\n",
       "      <th>VXD Open</th>\n",
       "      <th>VXD High</th>\n",
       "      <th>VXD Low</th>\n",
       "      <th>VXD Close</th>\n",
       "      <th>VXN Open</th>\n",
       "      <th>VXN High</th>\n",
       "      <th>VXN Low</th>\n",
       "      <th>VXN Close</th>\n",
       "    </tr>\n",
       "  </thead>\n",
       "  <tbody>\n",
       "    <tr>\n",
       "      <th>4216</th>\n",
       "      <td>9/18/18</td>\n",
       "      <td>13.48</td>\n",
       "      <td>13.48</td>\n",
       "      <td>12.56</td>\n",
       "      <td>12.79</td>\n",
       "      <td>11.29</td>\n",
       "      <td>11.65</td>\n",
       "      <td>10.96</td>\n",
       "      <td>11.38</td>\n",
       "      <td>14.16</td>\n",
       "      <td>14.16</td>\n",
       "      <td>7.48</td>\n",
       "      <td>13.34</td>\n",
       "      <td>18.09</td>\n",
       "      <td>18.31</td>\n",
       "      <td>16.98</td>\n",
       "      <td>17.35</td>\n",
       "    </tr>\n",
       "  </tbody>\n",
       "</table>\n",
       "</div>"
      ],
      "text/plain": [
       "         Date  VIX Open  VIX High  VIX Low  VIX Close  VOX Open  VOX High  \\\n",
       "4216  9/18/18     13.48     13.48    12.56      12.79     11.29     11.65   \n",
       "\n",
       "      VOX Low VOX Close  VXD Open  VXD High  VXD Low  VXD Close  VXN Open  \\\n",
       "4216    10.96     11.38     14.16     14.16     7.48      13.34     18.09   \n",
       "\n",
       "      VXN High  VXN Low  VXN Close  \n",
       "4216     18.31    16.98      17.35  "
      ]
     },
     "execution_count": 49,
     "metadata": {},
     "output_type": "execute_result"
    }
   ],
   "source": [
    "CBOE[CBOE['Date']=='9/18/18']"
   ]
  },
  {
   "cell_type": "code",
   "execution_count": null,
   "metadata": {},
   "outputs": [],
   "source": []
  },
  {
   "cell_type": "markdown",
   "metadata": {},
   "source": [
    "CRSP Data ------------------------------------------------------------------------------------------------------------"
   ]
  },
  {
   "cell_type": "code",
   "execution_count": 51,
   "metadata": {},
   "outputs": [],
   "source": [
    "# Load in data\n",
    "meta = pd.read_csv(\"CRSP/CRSP_CAP_metadata.csv\")\n",
    "cap = pd.read_csv(\"CRSP/CRSP_CAP.csv\")"
   ]
  },
  {
   "cell_type": "code",
   "execution_count": 58,
   "metadata": {},
   "outputs": [
    {
     "data": {
      "text/plain": [
       "(24415, 25)"
      ]
     },
     "execution_count": 58,
     "metadata": {},
     "output_type": "execute_result"
    }
   ],
   "source": [
    "cap.shape"
   ]
  },
  {
   "cell_type": "code",
   "execution_count": null,
   "metadata": {},
   "outputs": [],
   "source": []
  },
  {
   "cell_type": "code",
   "execution_count": null,
   "metadata": {},
   "outputs": [],
   "source": []
  }
 ],
 "metadata": {
  "kernelspec": {
   "display_name": "Python 3",
   "language": "python",
   "name": "python3"
  },
  "language_info": {
   "codemirror_mode": {
    "name": "ipython",
    "version": 3
   },
   "file_extension": ".py",
   "mimetype": "text/x-python",
   "name": "python",
   "nbconvert_exporter": "python",
   "pygments_lexer": "ipython3",
   "version": "3.6.5"
  }
 },
 "nbformat": 4,
 "nbformat_minor": 2
}
