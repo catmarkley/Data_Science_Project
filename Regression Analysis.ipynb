{
 "cells": [
  {
   "cell_type": "code",
   "execution_count": 1,
   "metadata": {},
   "outputs": [],
   "source": [
    "import pandas as pd"
   ]
  },
  {
   "cell_type": "code",
   "execution_count": 162,
   "metadata": {},
   "outputs": [],
   "source": [
    "# Creates a list of the past 3 dates\n",
    "def map_date(date): # date is a string\n",
    "    # date in the form 1/9/16\n",
    "    \n",
    "    if(not date):\n",
    "        return []\n",
    "    \n",
    "    d = date.split('/')\n",
    "    month = int(d[0])\n",
    "    day = int(d[1])\n",
    "    year = int(d[2])\n",
    "    \n",
    "    previousDates = []\n",
    "    for i in range(3):\n",
    "        day = day - 1\n",
    "        if(day == 0):\n",
    "            month = month - 1\n",
    "            if(month == 0):\n",
    "                month = 12\n",
    "                day = 31\n",
    "                year = year - 1\n",
    "                if(year < 0):\n",
    "                    year = 99\n",
    "            else:\n",
    "                if(month == 2):\n",
    "                    if (year % 4 == 0):\n",
    "                        day = 29\n",
    "                    else:\n",
    "                        day = 28\n",
    "                elif(month == 1 or month == 3 or month == 5 or month == 7 or month == 8 or month == 10):\n",
    "                    day = 31\n",
    "                else:\n",
    "                    day = 30\n",
    "    \n",
    "        if(len(str(year)) == 1):\n",
    "            yearTemp = '0' + str(year)\n",
    "        else:\n",
    "            yearTemp = year\n",
    "        string = str(month) + '/' + str(day) + '/' + str(yearTemp)\n",
    "        previousDates.append(string)\n",
    "        \n",
    "    return previousDates"
   ]
  },
  {
   "cell_type": "code",
   "execution_count": 32,
   "metadata": {},
   "outputs": [
    {
     "data": {
      "text/plain": [
       "(14276, 3)"
      ]
     },
     "execution_count": 32,
     "metadata": {},
     "output_type": "execute_result"
    }
   ],
   "source": [
    "sp500 = pd.read_csv(\"SP500/sp500.csv\")\n",
    "# Rename columns\n",
    "sp500.columns = ['Date', 'sp500', 'log_sp500']\n",
    "sp500 = sp500.dropna()\n",
    "sp500.shape"
   ]
  },
  {
   "cell_type": "code",
   "execution_count": 152,
   "metadata": {},
   "outputs": [
    {
     "name": "stderr",
     "output_type": "stream",
     "text": [
      "/afs/crc.nd.edu/user/p/pbui/pub/anaconda3/lib/python3.6/site-packages/ipykernel_launcher.py:17: FutureWarning: set_value is deprecated and will be removed in a future release. Please use .at[] or .iat[] accessors instead\n"
     ]
    }
   ],
   "source": [
    "# Build dataframe for regression - takes about 4 minutes\n",
    "\n",
    "cols = ['Date','Pred_Val','Day-1','Day-2','Day-3']#,'Day-4','Day-5','Day-6','Day-7','Day-8','Day-9','Day-10']\n",
    "reg_data = pd.DataFrame(columns=cols)\n",
    "\n",
    "reg_data['Date'] = sp500['Date']\n",
    "reg_data['Pred_Val'] = sp500['sp500']\n",
    "\n",
    "for index, row in sp500.iterrows():\n",
    "    dates = map_date(row['Date'])\n",
    "    for i, d in enumerate(dates):\n",
    "        point = sp500[sp500['Date']==d]\n",
    "        if(point['sp500'].empty):\n",
    "            continue\n",
    "        reg_data.set_value(index, reg_data.columns[i+2], point['sp500'][point.index[0]])\n",
    "            "
   ]
  },
  {
   "cell_type": "code",
   "execution_count": 154,
   "metadata": {},
   "outputs": [
    {
     "data": {
      "text/plain": [
       "(5708, 5)"
      ]
     },
     "execution_count": 154,
     "metadata": {},
     "output_type": "execute_result"
    }
   ],
   "source": [
    "reg_data.dropna().shape"
   ]
  },
  {
   "cell_type": "code",
   "execution_count": 161,
   "metadata": {},
   "outputs": [
    {
     "name": "stdout",
     "output_type": "stream",
     "text": [
      "MSE:  85.5045816249884\n",
      "MSE:  79.9341193483527\n",
      "MSE:  81.9501411731735\n",
      "MSE:  95.11379841282414\n",
      "MSE:  99.23408430399714\n"
     ]
    }
   ],
   "source": [
    "# Linear Regression Model\n",
    "\n",
    "from sklearn import datasets, linear_model\n",
    "from sklearn.metrics import mean_squared_error, r2_score\n",
    "from sklearn.cross_validation import KFold\n",
    "\n",
    "data = reg_data.dropna()\n",
    "\n",
    "predict_val = 'Pred_Val'\n",
    "x = data[reg_data.columns[2:]]\n",
    "kf = KFold(x.shape[0], n_folds=5, shuffle=True)\n",
    "y = data[predict_val]\n",
    "for train_index, test_index in kf:\n",
    "    x_train, x_test = x.iloc[train_index], x.iloc[test_index]\n",
    "    y_train, y_test = y.iloc[train_index], y.iloc[test_index]\n",
    "\n",
    "    regr = linear_model.LinearRegression()\n",
    "    regr.fit(x_train, y_train)\n",
    "\n",
    "    y_pred = regr.predict(x_test)\n",
    "    print(\"MSE: \", mean_squared_error(y_test, y_pred))"
   ]
  },
  {
   "cell_type": "code",
   "execution_count": null,
   "metadata": {},
   "outputs": [],
   "source": []
  }
 ],
 "metadata": {
  "kernelspec": {
   "display_name": "Python 3",
   "language": "python",
   "name": "python3"
  },
  "language_info": {
   "codemirror_mode": {
    "name": "ipython",
    "version": 3
   },
   "file_extension": ".py",
   "mimetype": "text/x-python",
   "name": "python",
   "nbconvert_exporter": "python",
   "pygments_lexer": "ipython3",
   "version": "3.6.5"
  }
 },
 "nbformat": 4,
 "nbformat_minor": 2
}
