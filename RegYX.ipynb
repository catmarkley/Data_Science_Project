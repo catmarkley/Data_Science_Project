{
 "cells": [
  {
   "cell_type": "code",
   "execution_count": 15,
   "metadata": {},
   "outputs": [],
   "source": [
    "import pandas as pd\n",
    "import numpy as np"
   ]
  },
  {
   "cell_type": "code",
   "execution_count": 16,
   "metadata": {},
   "outputs": [
    {
     "name": "stdout",
     "output_type": "stream",
     "text": [
      "          Date    sp500  sp500+1  ret_sp500  ret_sp500+1  bullMarket\n",
      "1       1/1/64    75.02    75.43   0.000000     0.546521           1\n",
      "2       1/2/64    75.43    75.50   0.546521     0.092801           1\n",
      "3       1/3/64    75.50    75.67   0.092801     0.225166           1\n",
      "4       1/6/64    75.67    75.69   0.225166     0.026431           1\n",
      "5       1/7/64    75.69    76.00   0.026431     0.409565           1\n",
      "6       1/8/64    76.00    76.28   0.409565     0.368421           1\n",
      "7       1/9/64    76.28    76.24   0.368421    -0.052438           0\n",
      "8      1/10/64    76.24    76.22  -0.052438    -0.026233           0\n",
      "9      1/13/64    76.22    76.36  -0.026233     0.183679           1\n",
      "10     1/14/64    76.36    76.64   0.183679     0.366684           1\n",
      "11     1/15/64    76.64    76.55   0.366684    -0.117432           0\n",
      "12     1/16/64    76.55    76.56  -0.117432     0.013063           1\n",
      "13     1/17/64    76.56    76.41   0.013063    -0.195925           0\n",
      "14     1/20/64    76.41    76.62  -0.195925     0.274833           1\n",
      "15     1/21/64    76.62    77.03   0.274833     0.535108           1\n",
      "16     1/22/64    77.03    77.09   0.535108     0.077892           1\n",
      "17     1/23/64    77.09    77.11   0.077892     0.025944           1\n",
      "18     1/24/64    77.11    77.08   0.025944    -0.038905           0\n",
      "19     1/27/64    77.08    77.10  -0.038905     0.025947           1\n",
      "20     1/28/64    77.10    76.63   0.025947    -0.609598           0\n",
      "21     1/29/64    76.63    76.70  -0.609598     0.091348           1\n",
      "22     1/30/64    76.70    77.04   0.091348     0.443286           1\n",
      "23     1/31/64    77.04    76.97   0.443286    -0.090862           0\n",
      "24      2/3/64    76.97    76.88  -0.090862    -0.116929           0\n",
      "25      2/4/64    76.88    76.75  -0.116929    -0.169095           0\n",
      "26      2/5/64    76.75    76.93  -0.169095     0.234528           1\n",
      "27      2/6/64    76.93    77.18   0.234528     0.324971           1\n",
      "28      2/7/64    77.18    77.05   0.324971    -0.168437           0\n",
      "29     2/10/64    77.05    77.33  -0.168437     0.363400           1\n",
      "30     2/11/64    77.33    77.57   0.363400     0.310358           1\n",
      "...        ...      ...      ...        ...          ...         ...\n",
      "14246   8/8/18  2857.70  2853.58  -0.026238    -0.144172           0\n",
      "14247   8/9/18  2853.58  2833.28  -0.144172    -0.711387           0\n",
      "14248  8/10/18  2833.28  2821.93  -0.711387    -0.400596           0\n",
      "14249  8/13/18  2821.93  2839.96  -0.400596     0.638924           1\n",
      "14250  8/14/18  2839.96  2818.37   0.638924    -0.760222           0\n",
      "14251  8/15/18  2818.37  2840.69  -0.760222     0.791947           1\n",
      "14252  8/16/18  2840.69  2850.13   0.791947     0.332314           1\n",
      "14253  8/17/18  2850.13  2857.05   0.332314     0.242796           1\n",
      "14254  8/20/18  2857.05  2862.96   0.242796     0.206857           1\n",
      "14255  8/21/18  2862.96  2861.82   0.206857    -0.039819           0\n",
      "14256  8/22/18  2861.82  2856.98  -0.039819    -0.169123           0\n",
      "14257  8/23/18  2856.98  2874.69  -0.169123     0.619885           1\n",
      "14258  8/24/18  2874.69  2896.74   0.619885     0.767039           1\n",
      "14259  8/27/18  2896.74  2897.52   0.767039     0.026927           1\n",
      "14260  8/28/18  2897.52  2914.04   0.026927     0.570143           1\n",
      "14261  8/29/18  2914.04  2901.13   0.570143    -0.443028           0\n",
      "14262  8/30/18  2901.13  2901.52  -0.443028     0.013443           1\n",
      "14263  8/31/18  2901.52  2901.52   0.013443     0.000000           0\n",
      "14264   9/3/18  2901.52  2896.72   0.000000    -0.165431           0\n",
      "14265   9/4/18  2896.72  2888.60  -0.165431    -0.280317           0\n",
      "14266   9/5/18  2888.60  2878.05  -0.280317    -0.365229           0\n",
      "14267   9/6/18  2878.05  2871.68  -0.365229    -0.221330           0\n",
      "14268   9/7/18  2871.68  2877.13  -0.221330     0.189784           1\n",
      "14269  9/10/18  2877.13  2887.89   0.189784     0.373984           1\n",
      "14270  9/11/18  2887.89  2888.92   0.373984     0.035666           1\n",
      "14271  9/12/18  2888.92  2904.18   0.035666     0.528225           1\n",
      "14272  9/13/18  2904.18  2904.98   0.528225     0.027547           1\n",
      "14273  9/14/18  2904.98  2888.80   0.027547    -0.556975           0\n",
      "14274  9/17/18  2888.80  2904.31  -0.556975     0.536901           1\n",
      "14275  9/18/18  2904.31  2907.95   0.536901     0.125331           1\n",
      "\n",
      "[14275 rows x 6 columns]\n"
     ]
    },
    {
     "data": {
      "text/plain": [
       "(14275, 6)"
      ]
     },
     "execution_count": 16,
     "metadata": {},
     "output_type": "execute_result"
    }
   ],
   "source": [
    "sp500 = pd.read_csv(\"SP500/sp500_1.csv\")\n",
    "# Rename columns\n",
    "sp500.columns = ['Date', 'sp500', 'sp500+1','ret_sp500', 'ret_sp500+1']\n",
    "sp500 = sp500.dropna()\n",
    "sLength = len(sp500['Date'])\n",
    "# add the bullMarket column with random ints (to be replaced in next cell)\n",
    "sp500['bullMarket'] = pd.Series(np.random.randn(sLength), index=sp500.index)\n",
    "\n",
    "# Create bullMarkert for ret_sp500+1\n",
    "bull = []\n",
    "for data in sp500['ret_sp500+1']:\n",
    "    if data > 0:\n",
    "        bull.append(1)\n",
    "    else:\n",
    "        bull.append(0)\n",
    "sp500['bullMarket'] = bull\n",
    "print(sp500)\n",
    "\n",
    "sp500.shape\n",
    "# print(sp500)"
   ]
  },
  {
   "cell_type": "code",
   "execution_count": 30,
   "metadata": {},
   "outputs": [],
   "source": [
    "tdata = pd.read_csv(\"Total_Data_no_dots.csv\",low_memory=False)\n",
    "\n",
    "result = pd.merge(sp500, tdata, on='Date', how='left')\n",
    "\n",
    "result  = result.dropna()\n",
    "\n",
    "# assume we want to predict the raw index of sp500 at T+1, given all the info at T\n",
    "\n",
    "y_reg = result['ret_sp500+1']\n",
    "\n",
    "y_cal = result['bullMarket']\n",
    " \n",
    "# list(result)\n",
    "\n",
    "result = result.drop(columns=['VOX Close', 'DGS1', 'DGS10', 'T10Y2Y', 'DBAA', 'USD1MTD156N', 'DCOILBRENTEU', 'DTWEXB', 'DEXUSEU', 'T10YIE', 'T5YIFR', 'BAMLH0A0HYM2EY'])\n",
    "\n",
    "x = result.drop(columns=['Date','sp500_x','sp500+1','ret_sp500+1','Unnamed: 0'])\n",
    "\n",
    "# print(result.dtypes)"
   ]
  },
  {
   "cell_type": "code",
   "execution_count": 31,
   "metadata": {},
   "outputs": [
    {
     "name": "stdout",
     "output_type": "stream",
     "text": [
      "MSE:  0.8005489780596978\n",
      "MSE:  0.9110931089470364\n",
      "MSE:  0.7155102661319641\n",
      "MSE:  0.7787915934620637\n",
      "MSE:  0.7945047010746361\n"
     ]
    }
   ],
   "source": [
    "# Linear Regression Model\n",
    "\n",
    "from sklearn import linear_model\n",
    "from sklearn.metrics import mean_squared_error, r2_score\n",
    "from sklearn.cross_validation import KFold\n",
    "\n",
    "# this is just an example\n",
    "# x = result[['sp500_x','VIX Close']]\n",
    "\n",
    "kf = KFold(x.shape[0], n_folds=5, shuffle=True)\n",
    "\n",
    "for train_index, test_index in kf:\n",
    "    x_train, x_test = x.iloc[train_index], x.iloc[test_index]\n",
    "    y_train, y_test = y_reg.iloc[train_index], y_reg.iloc[test_index]\n",
    "\n",
    "    regr = linear_model.LinearRegression()\n",
    "    regr.fit(x_train, y_train)\n",
    "\n",
    "    y_pred = regr.predict(x_test)\n",
    "    print(\"MSE: \", mean_squared_error(y_test, y_pred))"
   ]
  },
  {
   "cell_type": "code",
   "execution_count": 32,
   "metadata": {},
   "outputs": [
    {
     "name": "stdout",
     "output_type": "stream",
     "text": [
      "[1 1 1 ... 1 1 1]\n",
      "[[ 394  364]\n",
      " [3830 4160]]\n"
     ]
    }
   ],
   "source": [
    "# clssification tasks\n",
    "\n",
    "# tree \n",
    "\n",
    "from sklearn import tree\n",
    "clf = tree.DecisionTreeClassifier()\n",
    "clf = clf.fit(x, y_cal)\n",
    "predicted = clf.predict(x)\n",
    "# print (predicted)\n",
    "\n",
    "# naive Bayes \n",
    "\n",
    "from sklearn.naive_bayes import GaussianNB\n",
    "\n",
    "gnb = GaussianNB()\n",
    "\n",
    "gnb.fit(x, y_cal).predict(x)\n",
    "\n",
    "predicted= gnb.predict(x)\n",
    "print (predicted)\n",
    "\n",
    "from sklearn.metrics import confusion_matrix\n",
    "\n",
    "print(confusion_matrix(predicted,y_cal))  \n"
   ]
  },
  {
   "cell_type": "code",
   "execution_count": null,
   "metadata": {},
   "outputs": [],
   "source": []
  }
 ],
 "metadata": {
  "kernelspec": {
   "display_name": "Python 3",
   "language": "python",
   "name": "python3"
  },
  "language_info": {
   "codemirror_mode": {
    "name": "ipython",
    "version": 3
   },
   "file_extension": ".py",
   "mimetype": "text/x-python",
   "name": "python",
   "nbconvert_exporter": "python",
   "pygments_lexer": "ipython3",
   "version": "3.6.5"
  }
 },
 "nbformat": 4,
 "nbformat_minor": 2
}
