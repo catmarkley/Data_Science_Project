{
 "cells": [
  {
   "cell_type": "code",
   "execution_count": 1,
   "metadata": {},
   "outputs": [],
   "source": [
    "import pandas as pd\n",
    "import numpy as np"
   ]
  },
  {
   "cell_type": "code",
   "execution_count": 3,
   "metadata": {},
   "outputs": [
    {
     "data": {
      "text/plain": [
       "(14275, 6)"
      ]
     },
     "execution_count": 3,
     "metadata": {},
     "output_type": "execute_result"
    }
   ],
   "source": [
    "sp500 = pd.read_csv(\"SP500/sp500_1.csv\")\n",
    "# Rename columns\n",
    "sp500.columns = ['Date', 'sp500', 'sp500+1','ret_sp500', 'ret_sp500+1']\n",
    "sp500 = sp500.dropna()\n",
    "sLength = len(sp500['Date'])\n",
    "# add the bullMarket column with random ints (to be replaced in next cell)\n",
    "sp500['bullMarket'] = pd.Series(np.random.randn(sLength), index=sp500.index)\n",
    "\n",
    "# Create bullMarkert for ret_sp500+1\n",
    "bull = []\n",
    "for data in sp500['ret_sp500+1']:\n",
    "    if data > 0:\n",
    "        bull.append(1)\n",
    "    else:\n",
    "        bull.append(0)\n",
    "sp500['bullMarket'] = bull\n",
    "# print(sp500)\n",
    "\n",
    "sp500.shape\n",
    "# print(sp500)"
   ]
  },
  {
   "cell_type": "code",
   "execution_count": 27,
   "metadata": {},
   "outputs": [],
   "source": [
    "tdata = pd.read_csv(\"Total_Data_no_dots.csv\",low_memory=False)\n",
    "\n",
    "result = pd.merge(sp500, tdata, on='Date', how='left')\n",
    "\n",
    "result  = result.dropna()\n",
    "\n",
    "# assume we want to predict the raw index of sp500 at T+1, given all the info at T\n",
    "\n",
    "y_reg = result['ret_sp500+1']\n",
    "\n",
    "y_cal = result['bullMarket']\n",
    " \n",
    "# list(result)\n",
    "\n",
    "result = result.drop(columns=['VOX Close', 'DGS1', 'DGS10', 'T10Y2Y', 'DBAA', 'USD1MTD156N', 'DCOILBRENTEU', 'DTWEXB', 'DEXUSEU', 'T10YIE', 'T5YIFR', 'BAMLH0A0HYM2EY'])\n",
    "\n",
    "x = result.drop(columns=['Date','sp500_x','sp500+1','ret_sp500+1','Unnamed: 0'])\n",
    "\n",
    "# print(result.dtypes)"
   ]
  },
  {
   "cell_type": "code",
   "execution_count": 29,
   "metadata": {},
   "outputs": [
    {
     "name": "stdout",
     "output_type": "stream",
     "text": [
      "MSE:  0.8108592714839336\n",
      "MSE:  0.8220161493992437\n",
      "the main take way: the mean squared error is always within 1% \n"
     ]
    }
   ],
   "source": [
    "# Linear Regression Model\n",
    "\n",
    "from sklearn import linear_model\n",
    "from sklearn.metrics import mean_squared_error, r2_score\n",
    "from sklearn.cross_validation import KFold\n",
    "\n",
    "kf = KFold(x.shape[0], n_folds=2, shuffle=True)\n",
    "\n",
    "for train_index, test_index in kf:\n",
    "    x_train, x_test = x.iloc[train_index], x.iloc[test_index]\n",
    "    y_train, y_test = y_reg.iloc[train_index], y_reg.iloc[test_index]\n",
    "    y_train_cal, y_test_cal = y_cal.iloc[train_index], y_cal.iloc[test_index]\n",
    "\n",
    "    regr = linear_model.LinearRegression()\n",
    "    regr.fit(x_train, y_train)\n",
    "\n",
    "    y_pred = regr.predict(x_test)\n",
    "    print(\"MSE: \", mean_squared_error(y_test, y_pred))\n",
    "    \n",
    "print( \"the main take way: the mean squared error is always within 1% \")\n"
   ]
  },
  {
   "cell_type": "code",
   "execution_count": 31,
   "metadata": {},
   "outputs": [
    {
     "name": "stdout",
     "output_type": "stream",
     "text": [
      "[[2132    0]\n",
      " [   0 2242]]\n",
      "precision:  1.0\n",
      "recall:  1.0\n",
      "the main take way: 'perfect' prediction, overfitting problem\n"
     ]
    }
   ],
   "source": [
    "# clssification \n",
    "\n",
    "# decision tree CART algorithm\n",
    "\n",
    "from sklearn import tree\n",
    "from sklearn.metrics import confusion_matrix\n",
    "clf = tree.DecisionTreeClassifier()\n",
    "clf = clf.fit(x_train, y_train_cal)\n",
    "predicted = clf.predict(x_test)\n",
    "# print (predicted)\n",
    "c_matrix = confusion_matrix(predicted,y_test_cal)\n",
    "precision = c_matrix[1,1]/(c_matrix[1,1]+c_matrix[0,1])\n",
    "recall= c_matrix[1,1]/(c_matrix[1,1]+c_matrix[1,0])\n",
    "\n",
    "print(c_matrix)  \n",
    "\n",
    "print(\"precision: \", precision)  \n",
    "print(\"recall: \", recall)  \n",
    "\n",
    "print( \"the main take way: 'perfect' prediction, overfitting problem\")\n"
   ]
  },
  {
   "cell_type": "code",
   "execution_count": 26,
   "metadata": {},
   "outputs": [
    {
     "name": "stdout",
     "output_type": "stream",
     "text": [
      "[[ 120  143]\n",
      " [2012 2099]]\n",
      "precision:  0.9362176628010704\n",
      "recall:  0.5105813670639747\n"
     ]
    }
   ],
   "source": [
    "# naive Bayes \n",
    "from sklearn.naive_bayes import GaussianNB\n",
    "\n",
    "gnb = GaussianNB()\n",
    "\n",
    "gnb.fit(x_train, y_train_cal).predict(x_test)\n",
    "\n",
    "predicted= gnb.predict(x_test)\n",
    "\n",
    "c_matrix = confusion_matrix(predicted,y_test_cal)\n",
    "precision = c_matrix[1,1]/(c_matrix[1,1]+c_matrix[0,1])\n",
    "recall= c_matrix[1,1]/(c_matrix[1,1]+c_matrix[1,0])\n",
    "\n",
    "print(c_matrix)  \n",
    "\n",
    "print(\"precision: \", precision)  \n",
    "print(\"recall: \", recall)  \n",
    "\n",
    "print( \"the main take way: High Precision, recall is slightly better than a coin flip\")"
   ]
  },
  {
   "cell_type": "code",
   "execution_count": 34,
   "metadata": {},
   "outputs": [
    {
     "name": "stdout",
     "output_type": "stream",
     "text": [
      "[[1063    0]\n",
      " [1069 2242]]\n",
      "precision:  1.0\n",
      "recall:  0.6771368166717004\n",
      "the main take way: High Precision, recall is way more better than naive Bayes \n"
     ]
    }
   ],
   "source": [
    "# Support Vector Classification\n",
    "\n",
    "from sklearn.svm import SVC\n",
    "clf = SVC(gamma='auto')\n",
    "clf.fit(x_train, y_train_cal) \n",
    "\n",
    "predicted= clf.predict(x_test)\n",
    "\n",
    "c_matrix = confusion_matrix(predicted,y_test_cal)\n",
    "precision = c_matrix[1,1]/(c_matrix[1,1]+c_matrix[0,1])\n",
    "recall= c_matrix[1,1]/(c_matrix[1,1]+c_matrix[1,0])\n",
    "\n",
    "print(c_matrix)  \n",
    "\n",
    "print(\"precision: \", precision)  \n",
    "print(\"recall: \", recall)  \n",
    "\n",
    "print( \"the main take way: High Precision, recall is way more better than naive Bayes \")"
   ]
  },
  {
   "cell_type": "code",
   "execution_count": null,
   "metadata": {},
   "outputs": [],
   "source": []
  }
 ],
 "metadata": {
  "kernelspec": {
   "display_name": "Python 3",
   "language": "python",
   "name": "python3"
  },
  "language_info": {
   "codemirror_mode": {
    "name": "ipython",
    "version": 3
   },
   "file_extension": ".py",
   "mimetype": "text/x-python",
   "name": "python",
   "nbconvert_exporter": "python",
   "pygments_lexer": "ipython3",
   "version": "3.6.5"
  }
 },
 "nbformat": 4,
 "nbformat_minor": 2
}
