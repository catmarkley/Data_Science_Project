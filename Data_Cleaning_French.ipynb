{
 "cells": [
  {
   "cell_type": "code",
   "execution_count": 117,
   "metadata": {},
   "outputs": [],
   "source": [
    "import pandas as pd\n",
    "import numpy as np"
   ]
  },
  {
   "cell_type": "code",
   "execution_count": 118,
   "metadata": {},
   "outputs": [
    {
     "name": "stderr",
     "output_type": "stream",
     "text": [
      "/afs/crc.nd.edu/user/p/pbui/pub/anaconda3/lib/python3.6/site-packages/IPython/core/interactiveshell.py:2785: DtypeWarning: Columns (0,1,2,3,4,5,6,7,8,9,10,11,12,13,14,15,16,17,18,19,20,21,22,23,24,25,26,27,28,29,30,31,32,33,34,35,36,37,38,39,40,41,42,43,44,45,46,47,48,49) have mixed types. Specify dtype option on import or set low_memory=False.\n",
      "  interactivity=interactivity, compiler=compiler, result=result)\n"
     ]
    }
   ],
   "source": [
    "# Read Data\n",
    "ltrev = pd.read_csv(\"French/LTREV.CSV\")\n",
    "strev = pd.read_csv(\"French/STREV.CSV\")\n",
    "factors = pd.read_csv(\"French/5Factors.CSV\")\n",
    "industry = pd.read_csv(\"French/49Industry.CSV\")"
   ]
  },
  {
   "cell_type": "code",
   "execution_count": 119,
   "metadata": {},
   "outputs": [],
   "source": [
    "#factors.columns = ['Date', 'MKTRF', 'SMB', 'HML', 'RMW', 'CMA', 'RF']\n",
    "factors=factors.rename(columns = {'Unnamed: 0':'Date'})\n",
    "industry=industry.rename(columns = {'Unnamed: 0':'Date'})"
   ]
  },
  {
   "cell_type": "code",
   "execution_count": 120,
   "metadata": {},
   "outputs": [],
   "source": [
    "# Rename Columns\n",
    "#ltrev.columns = ['Date', 'ltrevReturn']\n",
    "ltrev=ltrev.rename(columns = {'Unnamed: 0':'Date'})\n",
    "#strev.columns = ['Date', 'strevReturn']\n",
    "strev=strev.rename(columns = {'Unnamed: 0':'Date'})"
   ]
  },
  {
   "cell_type": "code",
   "execution_count": 121,
   "metadata": {},
   "outputs": [
    {
     "name": "stdout",
     "output_type": "stream",
     "text": [
      "<class 'str'>\n",
      "<class 'str'>\n",
      "<class 'str'>\n"
     ]
    }
   ],
   "source": [
    "# Change date type to string\n",
    "dates = []\n",
    "for date in strev['Date']:\n",
    "    dates.append(str(date))\n",
    "strev['Date'] = dates\n",
    "print(type(strev['Date'][0]))\n",
    "\n",
    "# 5Factor\n",
    "dates = []\n",
    "for date in factors['Date']:\n",
    "    dates.append(str(date))\n",
    "factors['Date'] = dates\n",
    "print(type(factors['Date'][0]))\n",
    "\n",
    "# 49Industry\n",
    "dates = []\n",
    "for date in industry['Date']:\n",
    "    dates.append(str(date))\n",
    "industry['Date'] = dates\n",
    "print(type(industry['Date'][0]))"
   ]
  },
  {
   "cell_type": "code",
   "execution_count": 122,
   "metadata": {},
   "outputs": [
    {
     "name": "stdout",
     "output_type": "stream",
     "text": [
      "nan\n"
     ]
    }
   ],
   "source": [
    "# Join Them\n",
    "industry = industry.drop(industry.index[[48576, 48577]])\n",
    "ltrev = ltrev.drop(ltrev.index[[23185, 23186]])\n",
    "temp = pd.merge(strev, ltrev, on='Date', how='outer')\n",
    "temp2 = pd.merge(temp, factors, on='Date', how='outer')\n",
    "result = pd.merge(temp2, industry, on='Date', how='outer')\n",
    "print(result['Date'][48701])"
   ]
  },
  {
   "cell_type": "code",
   "execution_count": 123,
   "metadata": {},
   "outputs": [],
   "source": [
    "# Delete a random floating point in data\n",
    "result = result.drop(result.index[48701:])"
   ]
  },
  {
   "cell_type": "code",
   "execution_count": 125,
   "metadata": {},
   "outputs": [],
   "source": [
    "# Change format of dates\n",
    "newDates = []\n",
    "for date in result['Date']:\n",
    "    year = str(date)[2:4]\n",
    "    month = str(date)[4:6]\n",
    "    if(len(month) == 0):\n",
    "        print(date)\n",
    "    if(month[0] == '0'):\n",
    "        month = month[1]\n",
    "    day = str(date)[6:8]\n",
    "    if(day[0] == '0'):\n",
    "        day = day[1]\n",
    "    newDate = month + '/' + day + '/' + year\n",
    "    newDates.append(newDate)\n",
    "result['Date'] = newDates\n"
   ]
  },
  {
   "cell_type": "code",
   "execution_count": 127,
   "metadata": {},
   "outputs": [],
   "source": [
    "result.to_csv(\"French_data.csv\")"
   ]
  },
  {
   "cell_type": "code",
   "execution_count": null,
   "metadata": {},
   "outputs": [],
   "source": []
  }
 ],
 "metadata": {
  "kernelspec": {
   "display_name": "Python 3",
   "language": "python",
   "name": "python3"
  },
  "language_info": {
   "codemirror_mode": {
    "name": "ipython",
    "version": 3
   },
   "file_extension": ".py",
   "mimetype": "text/x-python",
   "name": "python",
   "nbconvert_exporter": "python",
   "pygments_lexer": "ipython3",
   "version": "3.6.5"
  }
 },
 "nbformat": 4,
 "nbformat_minor": 2
}
