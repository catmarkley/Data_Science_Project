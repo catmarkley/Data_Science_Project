{
 "cells": [
  {
   "cell_type": "code",
   "execution_count": 54,
   "metadata": {},
   "outputs": [],
   "source": [
    "import pandas as pd\n",
    "import numpy as np"
   ]
  },
  {
   "cell_type": "code",
   "execution_count": 55,
   "metadata": {},
   "outputs": [
    {
     "name": "stderr",
     "output_type": "stream",
     "text": [
      "/afs/crc.nd.edu/user/p/pbui/pub/anaconda3/lib/python3.6/site-packages/IPython/core/interactiveshell.py:2785: DtypeWarning: Columns (0,1,2,3,4,5,6,7,8,9,10,11,12,13,14,15,16,17,18,19,20,21,22,23,24,25,26,27,28,29,30,31,32,33,34,35,36,37,38,39,40,41,42,43,44,45,46,47,48,49) have mixed types. Specify dtype option on import or set low_memory=False.\n",
      "  interactivity=interactivity, compiler=compiler, result=result)\n"
     ]
    }
   ],
   "source": [
    "# Read Data\n",
    "ltrev = pd.read_csv(\"French/LTREV.CSV\")\n",
    "strev = pd.read_csv(\"French/STREV.CSV\")\n",
    "factors = pd.read_csv(\"French/5Factors.CSV\")\n",
    "industry = pd.read_csv(\"French/49Industry.CSV\")"
   ]
  },
  {
   "cell_type": "code",
   "execution_count": 56,
   "metadata": {},
   "outputs": [],
   "source": [
    "#factors.columns = ['Date', 'MKTRF', 'SMB', 'HML', 'RMW', 'CMA', 'RF']\n",
    "factors=factors.rename(columns = {'Unnamed: 0':'Date'})\n",
    "industry=industry.rename(columns = {'Unnamed: 0':'Date'})"
   ]
  },
  {
   "cell_type": "code",
   "execution_count": 57,
   "metadata": {},
   "outputs": [],
   "source": [
    "# Rename Columns\n",
    "#ltrev.columns = ['Date', 'ltrevReturn']\n",
    "ltrev=ltrev.rename(columns = {'Unnamed: 0':'Date'})\n",
    "#strev.columns = ['Date', 'strevReturn']\n",
    "strev=strev.rename(columns = {'Unnamed: 0':'Date'})"
   ]
  },
  {
   "cell_type": "code",
   "execution_count": 58,
   "metadata": {},
   "outputs": [
    {
     "name": "stdout",
     "output_type": "stream",
     "text": [
      "<class 'str'>\n",
      "<class 'str'>\n",
      "<class 'str'>\n"
     ]
    }
   ],
   "source": [
    "# Change date type to string\n",
    "dates = []\n",
    "for date in strev['Date']:\n",
    "    dates.append(str(date))\n",
    "strev['Date'] = dates\n",
    "print(type(strev['Date'][0]))\n",
    "\n",
    "# 5Factor\n",
    "dates = []\n",
    "for date in factors['Date']:\n",
    "    dates.append(str(date))\n",
    "factors['Date'] = dates\n",
    "print(type(factors['Date'][0]))\n",
    "\n",
    "# 49Industry\n",
    "dates = []\n",
    "for date in industry['Date']:\n",
    "    dates.append(str(date))\n",
    "industry['Date'] = dates\n",
    "print(type(industry['Date'][0]))"
   ]
  },
  {
   "cell_type": "code",
   "execution_count": 59,
   "metadata": {},
   "outputs": [
    {
     "name": "stdout",
     "output_type": "stream",
     "text": [
      "nan\n"
     ]
    }
   ],
   "source": [
    "# Join Them\n",
    "temp = pd.merge(strev, ltrev, on='Date', how='outer')\n",
    "temp2 = pd.merge(temp, factors, on='Date', how='outer')\n",
    "result = pd.merge(temp2, industry, on='Date', how='outer')\n",
    "print(result['Date'][48701])"
   ]
  },
  {
   "cell_type": "code",
   "execution_count": 60,
   "metadata": {},
   "outputs": [
    {
     "name": "stdout",
     "output_type": "stream",
     "text": [
      "19260126\n",
      "26\n",
      "1/26/1926\n"
     ]
    }
   ],
   "source": [
    "test = list(result['Date'][0])\n",
    "print(result['Date'][0])\n",
    "test1 = ''.join(test[:4])\n",
    "test2 = ''.join(test[4:6])\n",
    "ched = ''.join(test[6:])\n",
    "print(ched)\n",
    "if '0' in test2:\n",
    "    test2 = test2[1:]\n",
    "if '0' in ched:\n",
    "    ched = ched[1:]\n",
    "gas = test2 + '/' + ched + '/' + test1\n",
    "print(gas)\n",
    "tempo = list(result['Date'])"
   ]
  },
  {
   "cell_type": "code",
   "execution_count": 61,
   "metadata": {},
   "outputs": [],
   "source": [
    "# Delete a random floating point in data\n",
    "result = result.drop(result.index[48701])"
   ]
  },
  {
   "cell_type": "code",
   "execution_count": 62,
   "metadata": {},
   "outputs": [
    {
     "name": "stdout",
     "output_type": "stream",
     "text": [
      "                                              Date  STREV  LTREV  MKTRF   SMB  \\\n",
      "0                                        1/26/1926   0.14    NaN    NaN   NaN   \n",
      "1                                        1/27/1926   0.63    NaN    NaN   NaN   \n",
      "2                                        1/28/1926   0.21    NaN    NaN   NaN   \n",
      "3                                        1/29/1926   0.54    NaN    NaN   NaN   \n",
      "4                                        1/30/1926   0.45    NaN    NaN   NaN   \n",
      "5                                         2/1/1926  -0.32    NaN    NaN   NaN   \n",
      "6                                         2/2/1926   0.15    NaN    NaN   NaN   \n",
      "7                                         2/3/1926  -0.40    NaN    NaN   NaN   \n",
      "8                                         2/4/1926  -0.41    NaN    NaN   NaN   \n",
      "9                                         2/5/1926   0.29    NaN    NaN   NaN   \n",
      "10                                        2/6/1926  -0.14    NaN    NaN   NaN   \n",
      "11                                        2/8/1926   0.21    NaN    NaN   NaN   \n",
      "12                                        2/9/1926  -0.30    NaN    NaN   NaN   \n",
      "13                                       2/10/1926   0.13    NaN    NaN   NaN   \n",
      "14                                       2/11/1926  -0.16    NaN    NaN   NaN   \n",
      "15                                       2/13/1926   0.26    NaN    NaN   NaN   \n",
      "16                                       2/15/1926   1.22    NaN    NaN   NaN   \n",
      "17                                       2/16/1926  -0.22    NaN    NaN   NaN   \n",
      "18                                       2/17/1926   0.42    NaN    NaN   NaN   \n",
      "19                                       2/18/1926   0.37    NaN    NaN   NaN   \n",
      "20                                       2/19/1926  -0.16    NaN    NaN   NaN   \n",
      "21                                       2/20/1926  -0.07    NaN    NaN   NaN   \n",
      "22                                       2/23/1926  -0.49    NaN    NaN   NaN   \n",
      "23                                       2/24/1926   0.36    NaN    NaN   NaN   \n",
      "24                                       2/25/1926  -0.39    NaN    NaN   NaN   \n",
      "25                                       2/26/1926  -0.44    NaN    NaN   NaN   \n",
      "26                                       2/27/1926   0.68    NaN    NaN   NaN   \n",
      "27                                        3/1/1926  -0.44    NaN    NaN   NaN   \n",
      "28                                        3/2/1926  -0.81    NaN    NaN   NaN   \n",
      "29                                        3/3/1926  -0.20    NaN    NaN   NaN   \n",
      "...                                            ...    ...    ...    ...   ...   \n",
      "48677                                    7/16/2018   0.54  -0.59  -0.16 -0.61   \n",
      "48678                                    7/16/2018   0.54  -0.59  -0.16 -0.61   \n",
      "48679                                    7/17/2018   0.29  -0.26   0.48  0.15   \n",
      "48680                                    7/17/2018   0.29  -0.26   0.48  0.15   \n",
      "48681                                    7/18/2018   0.80  -0.21   0.27 -0.14   \n",
      "48682                                    7/18/2018   0.80  -0.21   0.27 -0.14   \n",
      "48683                                    7/19/2018  -0.16   0.40  -0.34  0.92   \n",
      "48684                                    7/19/2018  -0.16   0.40  -0.34  0.92   \n",
      "48685                                    7/20/2018  -0.18  -0.46  -0.10 -0.16   \n",
      "48686                                    7/20/2018  -0.18  -0.46  -0.10 -0.16   \n",
      "48687                                    7/23/2018   0.14  -0.23   0.15 -0.18   \n",
      "48688                                    7/23/2018   0.14  -0.23   0.15 -0.18   \n",
      "48689                                    7/24/2018  -0.30   0.29   0.22 -1.33   \n",
      "48690                                    7/24/2018  -0.30   0.29   0.22 -1.33   \n",
      "48691                                    7/25/2018  -0.59  -0.31   0.83 -0.58   \n",
      "48692                                    7/25/2018  -0.59  -0.31   0.83 -0.58   \n",
      "48693                                    7/26/2018   0.69   0.12  -0.20  0.75   \n",
      "48694                                    7/26/2018   0.69   0.12  -0.20  0.75   \n",
      "48695                                    7/27/2018   0.45  -0.17  -0.82 -1.19   \n",
      "48696                                    7/27/2018   0.45  -0.17  -0.82 -1.19   \n",
      "48697                                    7/30/2018   0.41   1.30  -0.70 -0.03   \n",
      "48698                                    7/30/2018   0.41   1.30  -0.70 -0.03   \n",
      "48699                                    7/31/2018   0.20  -0.13   0.51  0.68   \n",
      "48700                                    7/31/2018   0.20  -0.13   0.51  0.68   \n",
      "48702           ri/ght 2018 Kenneth R. French/Copy    NaN    NaN    NaN   NaN   \n",
      "48703                                        //nan    NaN    NaN    NaN   NaN   \n",
      "48704                                        //nan    NaN    NaN    NaN   NaN   \n",
      "48705                                        //nan    NaN    NaN    NaN   NaN   \n",
      "48706                                        //nan    NaN    NaN    NaN   NaN   \n",
      "48707  er/age Equal Weighted Returns -- Daily/  Av    NaN    NaN    NaN   NaN   \n",
      "\n",
      "        HML   RMW   CMA     RF  Agric  ...    Boxes  Trans  Whlsl  Rtail  \\\n",
      "0       NaN   NaN   NaN    NaN    NaN  ...      NaN    NaN    NaN    NaN   \n",
      "1       NaN   NaN   NaN    NaN    NaN  ...      NaN    NaN    NaN    NaN   \n",
      "2       NaN   NaN   NaN    NaN    NaN  ...      NaN    NaN    NaN    NaN   \n",
      "3       NaN   NaN   NaN    NaN    NaN  ...      NaN    NaN    NaN    NaN   \n",
      "4       NaN   NaN   NaN    NaN    NaN  ...      NaN    NaN    NaN    NaN   \n",
      "5       NaN   NaN   NaN    NaN    NaN  ...      NaN    NaN    NaN    NaN   \n",
      "6       NaN   NaN   NaN    NaN    NaN  ...      NaN    NaN    NaN    NaN   \n",
      "7       NaN   NaN   NaN    NaN    NaN  ...      NaN    NaN    NaN    NaN   \n",
      "8       NaN   NaN   NaN    NaN    NaN  ...      NaN    NaN    NaN    NaN   \n",
      "9       NaN   NaN   NaN    NaN    NaN  ...      NaN    NaN    NaN    NaN   \n",
      "10      NaN   NaN   NaN    NaN    NaN  ...      NaN    NaN    NaN    NaN   \n",
      "11      NaN   NaN   NaN    NaN    NaN  ...      NaN    NaN    NaN    NaN   \n",
      "12      NaN   NaN   NaN    NaN    NaN  ...      NaN    NaN    NaN    NaN   \n",
      "13      NaN   NaN   NaN    NaN    NaN  ...      NaN    NaN    NaN    NaN   \n",
      "14      NaN   NaN   NaN    NaN    NaN  ...      NaN    NaN    NaN    NaN   \n",
      "15      NaN   NaN   NaN    NaN    NaN  ...      NaN    NaN    NaN    NaN   \n",
      "16      NaN   NaN   NaN    NaN    NaN  ...      NaN    NaN    NaN    NaN   \n",
      "17      NaN   NaN   NaN    NaN    NaN  ...      NaN    NaN    NaN    NaN   \n",
      "18      NaN   NaN   NaN    NaN    NaN  ...      NaN    NaN    NaN    NaN   \n",
      "19      NaN   NaN   NaN    NaN    NaN  ...      NaN    NaN    NaN    NaN   \n",
      "20      NaN   NaN   NaN    NaN    NaN  ...      NaN    NaN    NaN    NaN   \n",
      "21      NaN   NaN   NaN    NaN    NaN  ...      NaN    NaN    NaN    NaN   \n",
      "22      NaN   NaN   NaN    NaN    NaN  ...      NaN    NaN    NaN    NaN   \n",
      "23      NaN   NaN   NaN    NaN    NaN  ...      NaN    NaN    NaN    NaN   \n",
      "24      NaN   NaN   NaN    NaN    NaN  ...      NaN    NaN    NaN    NaN   \n",
      "25      NaN   NaN   NaN    NaN    NaN  ...      NaN    NaN    NaN    NaN   \n",
      "26      NaN   NaN   NaN    NaN    NaN  ...      NaN    NaN    NaN    NaN   \n",
      "27      NaN   NaN   NaN    NaN    NaN  ...      NaN    NaN    NaN    NaN   \n",
      "28      NaN   NaN   NaN    NaN    NaN  ...      NaN    NaN    NaN    NaN   \n",
      "29      NaN   NaN   NaN    NaN    NaN  ...      NaN    NaN    NaN    NaN   \n",
      "...     ...   ...   ...    ...    ...  ...      ...    ...    ...    ...   \n",
      "48677  0.84 -0.22 -0.16  0.008  -0.64  ...    -1.01  -0.83  -0.69   0.11   \n",
      "48678  0.84 -0.22 -0.16  0.008   -0.3  ...    -1.16  -1.66  -0.79  -0.18   \n",
      "48679 -0.68  0.13 -0.22  0.008    0.7  ...     0.83   0.33    0.5   0.87   \n",
      "48680 -0.68  0.13 -0.22  0.008  -0.07  ...     0.72   0.63   0.54   0.85   \n",
      "48681  0.60 -0.18 -0.10  0.008  -1.01  ...     0.17   2.52   0.64      0   \n",
      "48682  0.60 -0.18 -0.10  0.008  -0.82  ...     0.17   1.72   0.37   0.52   \n",
      "48683 -0.36  0.19  0.05  0.008   0.73  ...     0.68   0.31   0.54  -0.36   \n",
      "48684 -0.36  0.19  0.05  0.008    1.1  ...     0.46   0.55   0.17   0.83   \n",
      "48685  0.07  0.12 -0.22  0.008   0.53  ...    -0.83  -0.12   -0.2  -0.22   \n",
      "48686  0.07  0.12 -0.22  0.008   0.68  ...    -0.85  -0.24   0.06  -1.22   \n",
      "48687  0.39 -0.23 -0.18  0.008  -1.67  ...    -0.12   0.92   0.08  -0.06   \n",
      "48688  0.39 -0.23 -0.18  0.008   -1.2  ...    -0.68   0.57   0.18   0.08   \n",
      "48689  0.52  0.46  0.09  0.008  -0.33  ...     0.45  -1.64  -0.94   0.29   \n",
      "48690  0.52  0.46  0.09  0.008  -1.99  ...     0.55  -2.46  -0.67  -1.48   \n",
      "48691 -1.21  0.06 -0.30  0.008   0.19  ...    -0.45   2.55    0.4   0.89   \n",
      "48692 -1.21  0.06 -0.30  0.008   0.42  ...    -1.14   1.45  -0.45   0.42   \n",
      "48693  0.61 -0.01  0.63  0.008  -0.09  ...    -0.33   0.83  -0.13  -1.09   \n",
      "48694  0.61 -0.01  0.63  0.008  -0.01  ...     0.76  -0.01   1.02   0.23   \n",
      "48695  1.14  0.51  0.51  0.008  -0.67  ...    -0.02   0.25  -0.78  -0.29   \n",
      "48696  1.14  0.51  0.51  0.008  -0.46  ...        0  -0.48  -0.81  -2.09   \n",
      "48697  1.66  0.26  1.01  0.008   0.34  ...     0.79  -0.39  -1.38  -0.42   \n",
      "48698  1.66  0.26  1.01  0.008   1.01  ...     0.66  -0.38  -0.04   0.42   \n",
      "48699 -0.94  0.28  0.26  0.008   1.22  ...     1.18   1.12   0.92  -0.11   \n",
      "48700 -0.94  0.28  0.26  0.008    1.3  ...     4.48   1.58    1.2   0.02   \n",
      "48702   NaN   NaN   NaN    NaN    NaN  ...      NaN    NaN    NaN    NaN   \n",
      "48703   NaN   NaN   NaN    NaN    NaN  ...      NaN    NaN    NaN    NaN   \n",
      "48704   NaN   NaN   NaN    NaN    NaN  ...      NaN    NaN    NaN    NaN   \n",
      "48705   NaN   NaN   NaN    NaN  Agric  ...    Boxes  Trans  Whlsl  Rtail   \n",
      "48706   NaN   NaN   NaN    NaN    NaN  ...      NaN    NaN    NaN    NaN   \n",
      "48707   NaN   NaN   NaN    NaN    NaN  ...      NaN    NaN    NaN    NaN   \n",
      "\n",
      "       Meals  Banks  Insur  RlEst  Fin    Other  \n",
      "0        NaN    NaN    NaN    NaN    NaN    NaN  \n",
      "1        NaN    NaN    NaN    NaN    NaN    NaN  \n",
      "2        NaN    NaN    NaN    NaN    NaN    NaN  \n",
      "3        NaN    NaN    NaN    NaN    NaN    NaN  \n",
      "4        NaN    NaN    NaN    NaN    NaN    NaN  \n",
      "5        NaN    NaN    NaN    NaN    NaN    NaN  \n",
      "6        NaN    NaN    NaN    NaN    NaN    NaN  \n",
      "7        NaN    NaN    NaN    NaN    NaN    NaN  \n",
      "8        NaN    NaN    NaN    NaN    NaN    NaN  \n",
      "9        NaN    NaN    NaN    NaN    NaN    NaN  \n",
      "10       NaN    NaN    NaN    NaN    NaN    NaN  \n",
      "11       NaN    NaN    NaN    NaN    NaN    NaN  \n",
      "12       NaN    NaN    NaN    NaN    NaN    NaN  \n",
      "13       NaN    NaN    NaN    NaN    NaN    NaN  \n",
      "14       NaN    NaN    NaN    NaN    NaN    NaN  \n",
      "15       NaN    NaN    NaN    NaN    NaN    NaN  \n",
      "16       NaN    NaN    NaN    NaN    NaN    NaN  \n",
      "17       NaN    NaN    NaN    NaN    NaN    NaN  \n",
      "18       NaN    NaN    NaN    NaN    NaN    NaN  \n",
      "19       NaN    NaN    NaN    NaN    NaN    NaN  \n",
      "20       NaN    NaN    NaN    NaN    NaN    NaN  \n",
      "21       NaN    NaN    NaN    NaN    NaN    NaN  \n",
      "22       NaN    NaN    NaN    NaN    NaN    NaN  \n",
      "23       NaN    NaN    NaN    NaN    NaN    NaN  \n",
      "24       NaN    NaN    NaN    NaN    NaN    NaN  \n",
      "25       NaN    NaN    NaN    NaN    NaN    NaN  \n",
      "26       NaN    NaN    NaN    NaN    NaN    NaN  \n",
      "27       NaN    NaN    NaN    NaN    NaN    NaN  \n",
      "28       NaN    NaN    NaN    NaN    NaN    NaN  \n",
      "29       NaN    NaN    NaN    NaN    NaN    NaN  \n",
      "...      ...    ...    ...    ...    ...    ...  \n",
      "48677  -0.47   1.82   0.17  -0.45   0.72  -0.16  \n",
      "48678   -0.5   0.72   0.56  -0.81   -0.2  -1.78  \n",
      "48679   0.35   0.25  -0.51   0.98   0.78  -0.39  \n",
      "48680   0.14  -0.13   0.24   0.49   0.75  -0.46  \n",
      "48681   0.38    0.9   1.35   0.62   1.53   2.91  \n",
      "48682   0.83   0.52   0.94    0.2    0.7   0.26  \n",
      "48683  -0.18  -1.03   -0.9   0.23  -1.28  -0.92  \n",
      "48684   0.31  -0.07  -0.24   0.77  -0.44    0.3  \n",
      "48685  -0.39   0.51  -0.05  -0.65  -0.23   -0.3  \n",
      "48686  -0.73   0.47   0.22  -0.49   -0.4  -0.66  \n",
      "48687   0.08   1.41   0.27  -0.29   0.99   0.18  \n",
      "48688   0.07   0.58   0.13   0.09   0.46  -0.13  \n",
      "48689  -1.03   0.15  -0.05  -0.47   0.12   0.29  \n",
      "48690  -1.55  -0.46  -0.04  -0.23   0.18  -0.18  \n",
      "48691   0.33   0.35   0.37   0.08   0.55   0.52  \n",
      "48692  -0.34  -0.68   0.13  -0.08  -0.53   0.39  \n",
      "48693  -0.31  -0.32   0.85   0.93  -0.48   0.26  \n",
      "48694   0.26   0.46   1.16   0.64  -0.18   0.15  \n",
      "48695   0.28  -0.05   -0.2  -0.54  -0.44   0.13  \n",
      "48696  -0.94  -1.06  -0.65  -0.95  -1.12  -1.05  \n",
      "48697  -0.63  -0.44  -0.09  -1.18  -1.01   0.06  \n",
      "48698   -0.8  -0.51   0.17  -0.97  -0.97  -1.39  \n",
      "48699   0.21  -0.75   0.33   1.15  -0.22    0.5  \n",
      "48700  -0.06   0.04   0.88   1.27    0.3   0.06  \n",
      "48702    NaN    NaN    NaN    NaN    NaN    NaN  \n",
      "48703    NaN    NaN    NaN    NaN    NaN    NaN  \n",
      "48704    NaN    NaN    NaN    NaN    NaN    NaN  \n",
      "48705  Meals  Banks  Insur  RlEst  Fin    Other  \n",
      "48706    NaN    NaN    NaN    NaN    NaN    NaN  \n",
      "48707    NaN    NaN    NaN    NaN    NaN    NaN  \n",
      "\n",
      "[48707 rows x 58 columns]\n"
     ]
    }
   ],
   "source": [
    "# Change format of dates\n",
    "newDates = []\n",
    "for date in result['Date']:\n",
    "    temp = list(date)\n",
    "    year = ''.join(date[:4])\n",
    "    month = ''.join(date[4:6])\n",
    "    day = ''.join(date[6:])\n",
    "    if '0' in month[:1]:\n",
    "        month = month[1:]\n",
    "    if '0' in day[:1]:\n",
    "        day = day[1:]\n",
    "    newDate = month + '/' + day + '/' + year\n",
    "    newDates.append(newDate)\n",
    "result['Date'] = newDates \n",
    "print(result)"
   ]
  },
  {
   "cell_type": "code",
   "execution_count": null,
   "metadata": {},
   "outputs": [],
   "source": []
  },
  {
   "cell_type": "code",
   "execution_count": null,
   "metadata": {},
   "outputs": [],
   "source": []
  }
 ],
 "metadata": {
  "kernelspec": {
   "display_name": "Python 3",
   "language": "python",
   "name": "python3"
  },
  "language_info": {
   "codemirror_mode": {
    "name": "ipython",
    "version": 3
   },
   "file_extension": ".py",
   "mimetype": "text/x-python",
   "name": "python",
   "nbconvert_exporter": "python",
   "pygments_lexer": "ipython3",
   "version": "3.6.5"
  }
 },
 "nbformat": 4,
 "nbformat_minor": 2
}
